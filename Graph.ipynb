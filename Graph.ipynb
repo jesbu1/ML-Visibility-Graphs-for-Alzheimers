{
 "cells": [
  {
   "cell_type": "code",
   "execution_count": null,
   "metadata": {},
   "outputs": [],
   "source": [
    "import numpy as np\n",
    "import networkx as nx\n",
    "from networkx.algorithms.similarity import graph_edit_distance\n",
    "import matplotlib.pyplot as plt\n",
    "import pandas as pd\n",
    "from scipy.stats import ttest_ind\n",
    "from scipy.special import comb\n",
    "from networkx.algorithms.approximation import max_clique\n",
    "from numba import jit, njit #for speeding up slow, not vectorized, python3 computation\n",
    "import random\n",
    "import os\n",
    "import math\n",
    "from helper_functions import *\n",
    "%load_ext autoreload\n",
    "%autoreload 2"
   ]
  },
  {
   "cell_type": "markdown",
   "metadata": {},
   "source": [
    "# RAW DATA"
   ]
  },
  {
   "cell_type": "code",
   "execution_count": null,
   "metadata": {},
   "outputs": [],
   "source": [
    "NA_raw_timesteps = 750\n",
    "NA_raw_electrode_count = 15\n",
    "NA_raw_num_bands = 1\n",
    "NA_raw_path = \"MCI All New Raw Data\"\n",
    "NA_num_participants = 26\n",
    "NA_divide_factor = 20\n",
    "NA_random_seed = 100\n",
    "\n",
    "NA_people, NA_order = make_subjects_matrix(NA_num_participants, NA_raw_timesteps, NA_raw_electrode_count, NA_raw_num_bands, NA_raw_path, raw=True)\n",
    "NA_new_people = average_epochs(NA_num_participants, NA_people, NA_divide_factor, NA_raw_timesteps, NA_raw_electrode_count, NA_raw_num_bands)\n",
    "NA_graphs = make_graphs(NA_num_participants, NA_new_people, NA_raw_timesteps, NA_divide_factor, NA_raw_electrode_count, NA_raw_num_bands)\n",
    "NA_controls, NA_converters = NA_graphs[0:11], NA_graphs[11:26]\n",
    "NA_features, NA_elecs, NA_bands, NA_formatted = test_everything(NA_controls, NA_converters, NA_raw_electrode_count, NA_raw_num_bands, raw=True)"
   ]
  },
  {
   "cell_type": "code",
   "execution_count": null,
   "metadata": {},
   "outputs": [],
   "source": [
    "NC_raw_timesteps = 750\n",
    "NC_raw_electrode_count = 15\n",
    "NC_raw_num_bands = 1\n",
    "NC_raw_path = \"New Words/Raw Congruous\"\n",
    "NC_num_participants = 26\n",
    "NC_divide_factor = 20\n",
    "\n",
    "NC_people, NC_order = make_subjects_matrix(NC_num_participants, NC_raw_timesteps, NC_raw_electrode_count, NC_raw_num_bands, NC_raw_path, raw=True)\n",
    "NC_new_people = average_epochs(NC_num_participants, NC_people, NC_divide_factor, NC_raw_timesteps, NC_raw_electrode_count, NC_raw_num_bands)\n",
    "NC_graphs = make_graphs(NC_num_participants, NC_new_people, NC_raw_timesteps, NC_divide_factor, NC_raw_electrode_count, NC_raw_num_bands)\n",
    "NC_controls, NC_converters = NC_graphs[0:11], NC_graphs[11:26]\n",
    "NC_features, NC_elecs, NC_bands, NC_formatted = test_everything(NC_controls, NC_converters, NC_raw_electrode_count, NC_raw_num_bands, raw=True)"
   ]
  },
  {
   "cell_type": "code",
   "execution_count": null,
   "metadata": {
    "scrolled": true
   },
   "outputs": [],
   "source": [
    "NI_raw_timesteps = 750\n",
    "NI_raw_electrode_count = 15\n",
    "NI_raw_num_bands = 1\n",
    "NI_raw_path = \"New Words/Raw Incongruous\"\n",
    "NI_num_participants = 26\n",
    "NI_divide_factor = 20\n",
    "NI_random_seed = 100\n",
    "\n",
    "NI_people, NI_order = make_subjects_matrix(NI_num_participants, NI_raw_timesteps, NI_raw_electrode_count, NI_raw_num_bands, NI_raw_path, raw=True)\n",
    "NI_new_people = average_epochs(NI_num_participants, NI_people, NI_divide_factor, NI_raw_timesteps, NI_raw_electrode_count, NI_raw_num_bands)\n",
    "NI_graphs = make_graphs(NI_num_participants, NI_new_people, NI_raw_timesteps, NI_divide_factor, NI_raw_electrode_count, NI_raw_num_bands)\n",
    "NI_controls, NI_converters = NI_graphs[0:11], NI_graphs[11:26]\n",
    "NI_features, NI_elecs, NI_bands, NI_formatted = test_everything(NI_controls, NI_converters, NI_raw_electrode_count, NI_raw_num_bands, raw=True)"
   ]
  },
  {
   "cell_type": "code",
   "execution_count": null,
   "metadata": {},
   "outputs": [],
   "source": [
    "OA_raw_timesteps = 750\n",
    "OA_raw_electrode_count = 15\n",
    "OA_raw_num_bands = 1\n",
    "OA_raw_path = \"Old Words/All\"\n",
    "OA_num_participants = 26\n",
    "OA_divide_factor = 20\n",
    "OA_random_seed = 100\n",
    "\n",
    "OA_people, OA_order = make_subjects_matrix(OA_num_participants, OA_raw_timesteps, OA_raw_electrode_count, OA_raw_num_bands, OA_raw_path, raw=True)\n",
    "OA_new_people = average_epochs(OA_num_participants, OA_people, OA_divide_factor, OA_raw_timesteps, OA_raw_electrode_count, OA_raw_num_bands)\n",
    "OA_graphs = make_graphs(OA_num_participants, OA_new_people, OA_raw_timesteps, OA_divide_factor, OA_raw_electrode_count, OA_raw_num_bands)\n",
    "OA_controls, OA_converters = OA_graphs[0:11], OA_graphs[11:26]\n",
    "OA_features, OA_elecs, OA_bands, OA_formatted = test_everything(OA_controls, OA_converters, OA_raw_electrode_count, OA_raw_num_bands, raw=True)"
   ]
  },
  {
   "cell_type": "code",
   "execution_count": null,
   "metadata": {},
   "outputs": [],
   "source": [
    "OC_raw_timesteps = 750\n",
    "OC_raw_electrode_count = 15\n",
    "OC_raw_num_bands = 1\n",
    "OC_raw_path = \"Old Words/Raw Congruous\"\n",
    "OC_num_participants = 26\n",
    "OC_divide_factor = 20\n",
    "OC_random_seed = 100\n",
    "\n",
    "OC_people, OC_order = make_subjects_matrix(OC_num_participants, OC_raw_timesteps, OC_raw_electrode_count, OC_raw_num_bands, OC_raw_path, raw=True)\n",
    "OC_new_people = average_epochs(OC_num_participants, OC_people, OC_divide_factor, OC_raw_timesteps, OC_raw_electrode_count, OC_raw_num_bands)\n",
    "OC_graphs = make_graphs(OC_num_participants, OC_new_people, OC_raw_timesteps, OC_divide_factor, OC_raw_electrode_count, OC_raw_num_bands)\n",
    "OC_controls, OC_converters = OC_graphs[0:11], OC_graphs[11:26]\n",
    "OC_features, OC_elecs, OC_bands, OC_formatted = test_everything(OC_controls, OC_converters, OC_raw_electrode_count, OC_raw_num_bands, raw=True)"
   ]
  },
  {
   "cell_type": "code",
   "execution_count": null,
   "metadata": {},
   "outputs": [],
   "source": [
    "OI_raw_timesteps = 750\n",
    "OI_raw_electrode_count = 15\n",
    "OI_raw_num_bands = 1\n",
    "OI_raw_path = \"Old Words/Raw Incongruous\"\n",
    "OI_num_participants = 26\n",
    "OI_divide_factor = 20\n",
    "OI_random_seed = 100\n",
    "\n",
    "OI_people, OI_order = make_subjects_matrix(OI_num_participants, OI_raw_timesteps, OI_raw_electrode_count, OI_raw_num_bands, OI_raw_path, raw=True)\n",
    "OI_new_people = average_epochs(OI_num_participants, OI_people, OI_divide_factor, OI_raw_timesteps, OI_raw_electrode_count, OI_raw_num_bands)\n",
    "OI_graphs = make_graphs(OI_num_participants, OI_new_people, OI_raw_timesteps, OI_divide_factor, OI_raw_electrode_count, OI_raw_num_bands)\n",
    "OI_controls, OI_converters = OI_graphs[0:11], OI_graphs[11:26]\n",
    "OI_features, OI_elecs, OI_bands, OI_formatted = test_everything(OI_controls, OI_converters, OI_raw_electrode_count, OI_raw_num_bands, raw=True)"
   ]
  },
  {
   "cell_type": "markdown",
   "metadata": {},
   "source": [
    "# Band Passed Data"
   ]
  },
  {
   "cell_type": "code",
   "execution_count": null,
   "metadata": {},
   "outputs": [],
   "source": [
    "NA_band_timesteps = 750\n",
    "NA_band_electrode_count = 15\n",
    "NA_band_num_bands = 5\n",
    "NA_band_path = \"MCI All New Band Data\"\n",
    "NA_band_people, NA_band_order = make_subjects_matrix(NA_num_participants, NA_band_timesteps, NA_band_electrode_count, NA_band_num_bands, NA_band_path, raw = False)\n",
    "NA_new_band_people = average_epochs(NA_num_participants, NA_band_people, NA_divide_factor, NA_band_timesteps, NA_band_electrode_count, NA_band_num_bands)\n",
    "NA_band_graphs = make_graphs(NA_num_participants, NA_new_band_people, NA_band_timesteps, NA_divide_factor, NA_band_electrode_count, NA_band_num_bands)\n",
    "NA_band_controls, NA_band_converters = NA_band_graphs[0:11], NA_band_graphs[11:26]\n",
    "NA_band_features, NA_band_elecs, NA_band_bands, NA_band_formatted = test_everything(NA_band_controls, NA_band_converters, NA_band_electrode_count, NA_band_num_bands, raw=False)"
   ]
  },
  {
   "cell_type": "code",
   "execution_count": null,
   "metadata": {},
   "outputs": [],
   "source": [
    "NC_band_timesteps = 750\n",
    "NC_band_electrode_count = 15\n",
    "NC_band_num_bands = 5\n",
    "NC_band_path = \"New Words/Band Congruous\"\n",
    "NC_band_people, NC_band_order = make_subjects_matrix(NC_num_participants, NC_band_timesteps, NC_band_electrode_count, NC_band_num_bands, NC_band_path, raw = False)\n",
    "NC_new_band_people = average_epochs(NC_num_participants, NC_band_people, NC_divide_factor, NC_band_timesteps, NC_band_electrode_count, NC_band_num_bands)\n",
    "NC_band_graphs = make_graphs(NC_num_participants, NC_new_band_people, NC_band_timesteps, NC_divide_factor, NC_band_electrode_count, NC_band_num_bands)\n",
    "NC_band_controls, NC_band_converters = NC_band_graphs[0:11], NC_band_graphs[11:26]\n",
    "NC_band_features, NC_band_elecs, NC_band_bands, NC_band_formatted = test_everything(NC_band_controls, NC_band_converters, NC_band_electrode_count, NC_band_num_bands, raw=False)"
   ]
  },
  {
   "cell_type": "code",
   "execution_count": null,
   "metadata": {},
   "outputs": [],
   "source": [
    "NI_band_timesteps = 750\n",
    "NI_band_electrode_count = 15\n",
    "NI_band_num_bands = 5\n",
    "NI_band_path = \"New Words/Band Incongruous\"\n",
    "NI_band_people, NI_band_order = make_subjects_matrix(NI_num_participants, NI_band_timesteps, NI_band_electrode_count, NI_band_num_bands, NI_band_path, raw = False)\n",
    "NI_new_band_people = average_epochs(NI_num_participants, NI_band_people, NI_divide_factor, NI_band_timesteps, NI_band_electrode_count, NI_band_num_bands)\n",
    "NI_band_graphs = make_graphs(NI_num_participants, NI_new_band_people, NI_band_timesteps, NI_divide_factor, NI_band_electrode_count, NI_band_num_bands)\n",
    "NI_band_controls, NI_band_converters = NI_band_graphs[0:11], NI_band_graphs[11:26]\n",
    "NI_band_features, NI_band_elecs, NI_band_bands, NI_band_formatted = test_everything(NI_band_controls, NI_band_converters, NI_band_electrode_count, NI_band_num_bands, raw=False)"
   ]
  },
  {
   "cell_type": "code",
   "execution_count": null,
   "metadata": {},
   "outputs": [],
   "source": [
    "OA_band_timesteps = 750\n",
    "OA_band_electrode_count = 15\n",
    "OA_band_num_bands = 5\n",
    "OA_band_path = \"Old Words/All Bands\"\n",
    "OA_band_people, OA_band_order = make_subjects_matrix(OA_num_participants, OA_band_timesteps, OA_band_electrode_count, OA_band_num_bands, OA_band_path, raw = False)\n",
    "OA_new_band_people = average_epochs(OA_num_participants, OA_band_people, OA_divide_factor, OA_band_timesteps, OA_band_electrode_count, OA_band_num_bands)\n",
    "OA_band_graphs = make_graphs(OA_num_participants, OA_new_band_people, OA_band_timesteps, OA_divide_factor, OA_band_electrode_count, OA_band_num_bands)\n",
    "OA_band_controls, OA_band_converters = OA_band_graphs[0:11], OA_band_graphs[11:26]\n",
    "OA_band_features, OA_band_elecs, OA_band_bands, OA_band_formatted = test_everything(OA_band_controls, OA_band_converters, OA_band_electrode_count, OA_band_num_bands, raw=False)"
   ]
  },
  {
   "cell_type": "code",
   "execution_count": null,
   "metadata": {},
   "outputs": [],
   "source": [
    "OC_band_timesteps = 750\n",
    "OC_band_electrode_count = 15\n",
    "OC_band_num_bands = 5\n",
    "OC_band_path = \"Old Words/Band Congruous\"\n",
    "OC_band_people, OC_band_order = make_subjects_matrix(OC_num_participants, OC_band_timesteps, OC_band_electrode_count, OC_band_num_bands, OC_band_path, raw = False)\n",
    "OC_new_band_people = average_epochs(OC_num_participants, OC_band_people, OC_divide_factor, OC_band_timesteps, OC_band_electrode_count, OC_band_num_bands)\n",
    "OC_band_graphs = make_graphs(OC_num_participants, OC_new_band_people, OC_band_timesteps, OC_divide_factor, OC_band_electrode_count, OC_band_num_bands)\n",
    "OC_band_controls, OC_band_converters = OC_band_graphs[0:11], OC_band_graphs[11:26]\n",
    "OC_band_features, OC_band_elecs, OC_band_bands, OC_band_formatted = test_everything(OC_band_controls, OC_band_converters, OC_band_electrode_count, OC_band_num_bands, raw=False)"
   ]
  },
  {
   "cell_type": "code",
   "execution_count": null,
   "metadata": {},
   "outputs": [],
   "source": [
    "OI_band_timesteps = 750\n",
    "OI_band_electrode_count = 15\n",
    "OI_band_num_bands = 5\n",
    "OI_band_path = \"Old Words/Band Incongruous\"\n",
    "OI_band_people, OI_band_order = make_subjects_matrix(OI_num_participants, OI_band_timesteps, OI_band_electrode_count, OI_band_num_bands, OI_band_path, raw = False)\n",
    "OI_new_band_people = average_epochs(OI_num_participants, OI_band_people, OI_divide_factor, OI_band_timesteps, OI_band_electrode_count, OI_band_num_bands)\n",
    "OI_band_graphs = make_graphs(OI_num_participants, OI_new_band_people, OI_band_timesteps, OI_divide_factor, OI_band_electrode_count, OI_band_num_bands)\n",
    "OI_band_controls, OI_band_converters = OI_band_graphs[0:11], OI_band_graphs[11:26]\n",
    "OI_band_features, OI_band_elecs, OI_band_bands, OI_band_formatted = test_everything(OI_band_controls, OI_band_converters, OI_band_electrode_count, OI_band_num_bands, raw=False)"
   ]
  },
  {
   "cell_type": "markdown",
   "metadata": {},
   "source": [
    "# Machine Learning Based on Features"
   ]
  },
  {
   "cell_type": "code",
   "execution_count": null,
   "metadata": {},
   "outputs": [],
   "source": [
    "from keras.models import Sequential\n",
    "from keras.optimizers import Adam\n",
    "from keras.layers import Dense, Activation\n",
    "from keras.regularizers import l2\n",
    "from sklearn import svm\n",
    "from sklearn.linear_model import LogisticRegression\n",
    "from sklearn.discriminant_analysis import LinearDiscriminantAnalysis\n",
    "from sklearn.ensemble import RandomForestClassifier\n",
    "from sklearn.neighbors import KNeighborsClassifier\n",
    "from sklearn.metrics import accuracy_score, roc_auc_score, roc_curve, classification_report\n",
    "from sklearn.preprocessing import StandardScaler\n",
    "from keras.wrappers.scikit_learn import KerasClassifier\n",
    "from sklearn.model_selection import StratifiedShuffleSplit, ShuffleSplit, KFold\n",
    "from sklearn.preprocessing import StandardScaler\n",
    "from sklearn.decomposition import PCA\n",
    "from scipy import interp\n",
    "import scikitplot as skplt\n",
    "from sklearn.externals.joblib import parallel_backend"
   ]
  },
  {
   "cell_type": "markdown",
   "metadata": {},
   "source": [
    "# Testing on AD"
   ]
  },
  {
   "cell_type": "code",
   "execution_count": null,
   "metadata": {},
   "outputs": [],
   "source": [
    "AD_num_participants = 11"
   ]
  },
  {
   "cell_type": "code",
   "execution_count": null,
   "metadata": {},
   "outputs": [],
   "source": [
    "AD_NA_timesteps = 750\n",
    "AD_NA_electrode_count = 15\n",
    "AD_NA_nums = 1\n",
    "AD_NA_path = \"AD_data/NA\"\n",
    "AD_NA_people, AD_NA_order = make_subjects_matrix_AD(AD_num_participants, AD_NA_timesteps, AD_NA_electrode_count, AD_NA_nums, AD_NA_path, raw = True)\n",
    "AD_NA_new_people = average_epochs(AD_num_participants, AD_NA_people, NA_divide_factor, AD_NA_timesteps, AD_NA_electrode_count, AD_NA_nums)\n",
    "AD_NA_graphs = make_graphs(AD_num_participants, AD_NA_new_people, AD_NA_timesteps, NA_divide_factor, AD_NA_electrode_count, AD_NA_nums)\n",
    "AD_NA_controls, AD_NA_converters = NA_controls, AD_NA_graphs\n",
    "AD_NA_features, AD_NA_elecs, AD_NA_bands, AD_NA_formatted = test_everything(AD_NA_controls, AD_NA_converters, AD_NA_electrode_count, 1, raw=True)"
   ]
  },
  {
   "cell_type": "code",
   "execution_count": null,
   "metadata": {},
   "outputs": [],
   "source": [
    "AD_NC_timesteps = 750\n",
    "AD_NC_electrode_count = 15\n",
    "AD_NC_nums = 1\n",
    "AD_NC_path = \"AD_data/NC\"\n",
    "AD_NC_people, AD_NC_order = make_subjects_matrix_AD(AD_num_participants, AD_NC_timesteps, AD_NC_electrode_count, AD_NC_nums, AD_NC_path, raw = True)\n",
    "AD_NC_new_people = average_epochs(AD_num_participants, AD_NC_people, NC_divide_factor, AD_NC_timesteps, AD_NC_electrode_count, AD_NC_nums)\n",
    "AD_NC_graphs = make_graphs(AD_num_participants, AD_NC_new_people, AD_NC_timesteps, NC_divide_factor, AD_NC_electrode_count, AD_NC_nums)\n",
    "AD_NC_controls, AD_NC_converters = NC_controls, AD_NC_graphs\n",
    "AD_NC_features, AD_NC_elecs, AD_NC_bands, AD_NC_formatted = test_everything(AD_NC_controls, AD_NC_converters, AD_NC_electrode_count, 1, raw=True)"
   ]
  },
  {
   "cell_type": "code",
   "execution_count": null,
   "metadata": {},
   "outputs": [],
   "source": [
    "AD_NI_timesteps = 750\n",
    "AD_NI_electrode_count = 15\n",
    "AD_NI_nums = 1\n",
    "AD_NI_path = \"AD_data/NI\"\n",
    "AD_NI_people, AD_NI_order = make_subjects_matrix_AD(AD_num_participants, AD_NI_timesteps, AD_NI_electrode_count, AD_NI_nums, AD_NI_path, raw = True)\n",
    "AD_NI_new_people = average_epochs(AD_num_participants, AD_NI_people, NI_divide_factor, AD_NI_timesteps, AD_NI_electrode_count, AD_NI_nums)\n",
    "AD_NI_graphs = make_graphs(AD_num_participants, AD_NI_new_people, AD_NI_timesteps, NI_divide_factor, AD_NI_electrode_count, AD_NI_nums)\n",
    "AD_NI_controls, AD_NI_converters = NI_controls, AD_NI_graphs\n",
    "AD_NI_features, AD_NI_elecs, AD_NI_bands, AD_NI_formatted = test_everything(AD_NI_controls, AD_NI_converters, AD_NI_electrode_count, 1, raw=True)"
   ]
  },
  {
   "cell_type": "code",
   "execution_count": null,
   "metadata": {},
   "outputs": [],
   "source": [
    "AD_OA_timesteps = 750\n",
    "AD_OA_electrode_count = 15\n",
    "AD_OA_nums = 1\n",
    "AD_OA_path = \"AD_data/OA\"\n",
    "AD_OA_people, AD_OA_order = make_subjects_matrix_AD(AD_num_participants, AD_OA_timesteps, AD_OA_electrode_count, AD_OA_nums, AD_OA_path, raw = True)\n",
    "AD_OA_new_people = average_epochs(AD_num_participants, AD_OA_people, OA_divide_factor, AD_OA_timesteps, AD_OA_electrode_count, AD_OA_nums)\n",
    "AD_OA_graphs = make_graphs(AD_num_participants, AD_OA_new_people, AD_OA_timesteps, OA_divide_factor, AD_OA_electrode_count, AD_OA_nums)\n",
    "AD_OA_controls, AD_OA_converters = OA_controls, AD_OA_graphs\n",
    "AD_OA_features, AD_OA_elecs, AD_OA_bands, AD_OA_formatted = test_everything(AD_OA_controls, AD_OA_converters, AD_OA_electrode_count, 1, raw=True)"
   ]
  },
  {
   "cell_type": "code",
   "execution_count": null,
   "metadata": {},
   "outputs": [],
   "source": [
    "AD_OC_timesteps = 750\n",
    "AD_OC_electrode_count = 15\n",
    "AD_OC_nums = 1\n",
    "AD_OC_path = \"AD_data/OC\"\n",
    "AD_OC_people, AD_OC_order = make_subjects_matrix_AD(AD_num_participants, AD_OC_timesteps, AD_OC_electrode_count, AD_OC_nums, AD_OC_path, raw = True)\n",
    "AD_OC_new_people = average_epochs(AD_num_participants, AD_OC_people, OC_divide_factor, AD_OC_timesteps, AD_OC_electrode_count, AD_OC_nums)\n",
    "AD_OC_graphs = make_graphs(AD_num_participants, AD_OC_new_people, AD_OC_timesteps, OC_divide_factor, AD_OC_electrode_count, AD_OC_nums)\n",
    "AD_OC_controls, AD_OC_converters = OC_controls, AD_OC_graphs\n",
    "AD_OC_features, AD_OC_elecs, AD_OC_bands, AD_OC_formatted = test_everything(AD_OC_controls, AD_OC_converters, AD_OC_electrode_count, 1, raw=True)"
   ]
  },
  {
   "cell_type": "code",
   "execution_count": null,
   "metadata": {},
   "outputs": [],
   "source": [
    "AD_OI_timesteps = 750\n",
    "AD_OI_electrode_count = 15\n",
    "AD_OI_nums = 1\n",
    "AD_OI_path = \"AD_data/OI\"\n",
    "AD_OI_people, AD_OI_order = make_subjects_matrix_AD(AD_num_participants, AD_OI_timesteps, AD_OI_electrode_count, AD_OI_nums, AD_OI_path, raw = True)\n",
    "AD_OI_new_people = average_epochs(AD_num_participants, AD_OI_people, OI_divide_factor, AD_OI_timesteps, AD_OI_electrode_count, AD_OI_nums)\n",
    "AD_OI_graphs = make_graphs(AD_num_participants, AD_OI_new_people, AD_OI_timesteps, OI_divide_factor, AD_OI_electrode_count, AD_OI_nums)\n",
    "AD_OI_controls, AD_OI_converters = OI_controls, AD_OI_graphs\n",
    "AD_OI_features, AD_OI_elecs, AD_OI_bands, AD_OI_formatted = test_everything(AD_OI_controls, AD_OI_converters, AD_OI_electrode_count, 1, raw=True)"
   ]
  },
  {
   "cell_type": "code",
   "execution_count": null,
   "metadata": {},
   "outputs": [],
   "source": [
    "AD_NA_band_timesteps = 750\n",
    "AD_NA_band_electrode_count = 15\n",
    "AD_NA_band_num_bands = 5\n",
    "AD_NA_band_path = \"AD_data/NA_Band\"\n",
    "AD_NA_band_people, AD_NA_band_order = make_subjects_matrix_AD(AD_num_participants, AD_NA_band_timesteps, AD_NA_band_electrode_count, AD_NA_band_num_bands, AD_NA_band_path, raw = False)\n",
    "AD_NA_new_band_people = average_epochs(AD_num_participants, AD_NA_band_people, NA_divide_factor, AD_NA_band_timesteps, AD_NA_band_electrode_count, AD_NA_band_num_bands)\n",
    "AD_NA_band_graphs = make_graphs(AD_num_participants, AD_NA_new_band_people, AD_NA_band_timesteps, NA_divide_factor, AD_NA_band_electrode_count, AD_NA_band_num_bands)\n",
    "AD_NA_band_controls, AD_NA_band_converters = NA_band_controls, AD_NA_band_graphs\n",
    "AD_NA_band_features, AD_NA_band_elecs, AD_NA_band_bands, AD_NA_band_formatted = test_everything(AD_NA_band_controls, AD_NA_band_converters, AD_NA_band_electrode_count, AD_NA_band_num_bands, raw=False)"
   ]
  },
  {
   "cell_type": "code",
   "execution_count": null,
   "metadata": {},
   "outputs": [],
   "source": [
    "AD_NC_band_timesteps = 750\n",
    "AD_NC_band_electrode_count = 15\n",
    "AD_NC_band_num_bands = 5\n",
    "AD_NC_band_path = \"AD_data/NC_Band\"\n",
    "AD_NC_band_people, AD_NC_band_order = make_subjects_matrix_AD(AD_num_participants, AD_NC_band_timesteps, AD_NC_band_electrode_count, AD_NC_band_num_bands, AD_NC_band_path, raw = False)\n",
    "AD_NC_new_band_people = average_epochs(AD_num_participants, AD_NC_band_people, NC_divide_factor, AD_NC_band_timesteps, AD_NC_band_electrode_count, AD_NC_band_num_bands)\n",
    "AD_NC_band_graphs = make_graphs(AD_num_participants, AD_NC_new_band_people, AD_NC_band_timesteps, NC_divide_factor, AD_NC_band_electrode_count, AD_NC_band_num_bands)\n",
    "AD_NC_band_controls, AD_NC_band_converters = NC_band_controls, AD_NC_band_graphs\n",
    "AD_NC_band_features, AD_NC_band_elecs, AD_NC_band_bands, AD_NC_band_formatted = test_everything(AD_NC_band_controls, AD_NC_band_converters, AD_NC_band_electrode_count, AD_NC_band_num_bands, raw=False)"
   ]
  },
  {
   "cell_type": "code",
   "execution_count": null,
   "metadata": {},
   "outputs": [],
   "source": [
    "AD_NI_band_timesteps = 750\n",
    "AD_NI_band_electrode_count = 15\n",
    "AD_NI_band_num_bands = 5\n",
    "AD_NI_band_path = \"AD_data/NI_Band\"\n",
    "AD_NI_band_people, AD_NI_band_order = make_subjects_matrix_AD(AD_num_participants, AD_NI_band_timesteps, AD_NI_band_electrode_count, AD_NI_band_num_bands, AD_NI_band_path, raw = False)\n",
    "AD_NI_new_band_people = average_epochs(AD_num_participants, AD_NI_band_people, NI_divide_factor, AD_NI_band_timesteps, AD_NI_band_electrode_count, AD_NI_band_num_bands)\n",
    "AD_NI_band_graphs = make_graphs(AD_num_participants, AD_NI_new_band_people, AD_NI_band_timesteps, NI_divide_factor, AD_NI_band_electrode_count, AD_NI_band_num_bands)\n",
    "AD_NI_band_controls, AD_NI_band_converters = NI_band_controls, AD_NI_band_graphs\n",
    "AD_NI_band_features, AD_NI_band_elecs, AD_NI_band_bands, AD_NI_band_formatted = test_everything(AD_NI_band_controls, AD_NI_band_converters, AD_NI_band_electrode_count, AD_NI_band_num_bands, raw=False)"
   ]
  },
  {
   "cell_type": "code",
   "execution_count": null,
   "metadata": {},
   "outputs": [],
   "source": [
    "AD_OA_band_timesteps = 750\n",
    "AD_OA_band_electrode_count = 15\n",
    "AD_OA_band_num_bands = 5\n",
    "AD_OA_band_path = \"AD_data/OA_Band\"\n",
    "AD_OA_band_people, AD_OA_band_order = make_subjects_matrix_AD(AD_num_participants, AD_OA_band_timesteps, AD_OA_band_electrode_count, AD_OA_band_num_bands, AD_OA_band_path, raw = False)\n",
    "AD_OA_new_band_people = average_epochs(AD_num_participants, AD_OA_band_people, OA_divide_factor, AD_OA_band_timesteps, AD_OA_band_electrode_count, AD_OA_band_num_bands)\n",
    "AD_OA_band_graphs = make_graphs(AD_num_participants, AD_OA_new_band_people, AD_OA_band_timesteps, OA_divide_factor, AD_OA_band_electrode_count, AD_OA_band_num_bands)\n",
    "AD_OA_band_controls, AD_OA_band_converters = OA_band_controls, AD_OA_band_graphs\n",
    "AD_OA_band_features, AD_OA_band_elecs, AD_OA_band_bands, AD_OA_band_formatted = test_everything(AD_OA_band_controls, AD_OA_band_converters, AD_OA_band_electrode_count, AD_OA_band_num_bands, raw=False)"
   ]
  },
  {
   "cell_type": "code",
   "execution_count": null,
   "metadata": {},
   "outputs": [],
   "source": [
    "AD_OC_band_timesteps = 750\n",
    "AD_OC_band_electrode_count = 15\n",
    "AD_OC_band_num_bands = 5\n",
    "AD_OC_band_path = \"AD_data/OC_Band\"\n",
    "AD_OC_band_people, AD_OC_band_order = make_subjects_matrix_AD(AD_num_participants, AD_OC_band_timesteps, AD_OC_band_electrode_count, AD_OC_band_num_bands, AD_OC_band_path, raw = False)\n",
    "AD_OC_new_band_people = average_epochs(AD_num_participants, AD_OC_band_people, OC_divide_factor, AD_OC_band_timesteps, AD_OC_band_electrode_count, AD_OC_band_num_bands)\n",
    "AD_OC_band_graphs = make_graphs(AD_num_participants, AD_OC_new_band_people, AD_OC_band_timesteps, OC_divide_factor, AD_OC_band_electrode_count, AD_OC_band_num_bands)\n",
    "AD_OC_band_controls, AD_OC_band_converters = OC_band_controls, AD_OC_band_graphs\n",
    "AD_OC_band_features, AD_OC_band_elecs, AD_OC_band_bands, AD_OC_band_formatted = test_everything(AD_OC_band_controls, AD_OC_band_converters, AD_OC_band_electrode_count, AD_OC_band_num_bands, raw=False)"
   ]
  },
  {
   "cell_type": "code",
   "execution_count": null,
   "metadata": {},
   "outputs": [],
   "source": [
    "AD_OI_band_timesteps = 750\n",
    "AD_OI_band_electrode_count = 15\n",
    "AD_OI_band_num_bands = 5\n",
    "AD_OI_band_path = \"AD_data/OI_Band\"\n",
    "AD_OI_band_people, AD_OI_band_order = make_subjects_matrix_AD(AD_num_participants, AD_OI_band_timesteps, AD_OI_band_electrode_count, AD_OI_band_num_bands, AD_OI_band_path, raw = False)\n",
    "AD_OI_new_band_people = average_epochs(AD_num_participants, AD_OI_band_people, OI_divide_factor, AD_OI_band_timesteps, AD_OI_band_electrode_count, AD_OI_band_num_bands)\n",
    "AD_OI_band_graphs = make_graphs(AD_num_participants, AD_OI_new_band_people, AD_OI_band_timesteps, OI_divide_factor, AD_OI_band_electrode_count, AD_OI_band_num_bands)\n",
    "AD_OI_band_controls, AD_OI_band_converters = OI_band_controls, AD_OI_band_graphs\n",
    "AD_OI_band_features, AD_OI_band_elecs, AD_OI_band_bands, AD_OI_band_formatted = test_everything(AD_OI_band_controls, AD_OI_band_converters, AD_OI_band_electrode_count, AD_OI_band_num_bands, raw=False)"
   ]
  },
  {
   "cell_type": "code",
   "execution_count": null,
   "metadata": {
    "scrolled": true
   },
   "outputs": [],
   "source": [
    "#Preparing AD data for ML classification based only on AD features\n",
    "X_s = []\n",
    "num_in_train = 11\n",
    "num_bands = 5\n",
    "raw_features = [AD_NA_features, AD_NC_features, AD_NI_features, AD_OA_features, AD_OC_features, AD_OI_features]\n",
    "raw_electrodes = [AD_NA_elecs, AD_NC_elecs, AD_NI_elecs, AD_OA_elecs, AD_OC_elecs, AD_OI_elecs]\n",
    "raw_bands = [AD_NA_bands, AD_NC_bands, AD_NI_bands, AD_OA_bands, AD_OC_bands, AD_OI_bands]\n",
    "raw_graphs = [AD_NA_graphs, AD_NC_graphs, AD_NI_graphs, AD_OA_graphs, AD_OC_graphs, AD_OI_graphs]\n",
    "raw_people = [AD_NA_new_people, AD_NC_new_people, AD_NI_new_people, AD_OA_new_people, AD_OC_new_people, AD_OI_new_people]\n",
    "band_features = [AD_NA_band_features, AD_NC_band_features, AD_NI_band_features, AD_OA_band_features, AD_OC_band_features, AD_OI_band_features]\n",
    "band_electrodes = [AD_NA_band_elecs, AD_NC_band_elecs, AD_NI_band_elecs, AD_OA_band_elecs, AD_OC_band_elecs, AD_OI_band_elecs]\n",
    "band_bands = [AD_NA_band_bands, AD_NC_band_bands, AD_NI_band_bands, AD_OA_band_bands, AD_OC_band_bands, AD_OI_band_bands]\n",
    "band_graphs = [AD_NA_band_graphs, AD_NC_band_graphs, AD_NI_band_graphs, AD_OA_band_graphs, AD_OC_band_graphs, AD_OI_band_graphs]\n",
    "band_people = [AD_NA_new_band_people, AD_NC_new_band_people, AD_NI_new_band_people, AD_OA_new_band_people, AD_OC_new_band_people, AD_OI_new_band_people]\n",
    "for i in range(len(raw_features)):\n",
    "    X, AD_y, x_test, y_test = make_ML_input(raw_features[i], raw_electrodes[i], raw_bands[i], raw_graphs[i], raw_people[i], num_in_train, num_bands, raw=True)\n",
    "    if X is not None: X_s.append(X)\n",
    "for i in range(len(band_features)):\n",
    "    X, AD_y, x_test, y_test = make_ML_input(band_features[i], band_electrodes[i], band_bands[i], band_graphs[i], band_people[i], num_in_train, num_bands, raw=False)\n",
    "    if X is not None: X_s.append(X)\n",
    "AD_combined_X = ()\n",
    "for i in range(len(X_s)):\n",
    "    AD_combined_X = (*AD_combined_X, X_s[i])\n",
    "AD_combined_X = np.concatenate(AD_combined_X, axis=1)\n",
    "print(\"Total Number of Features: \" + str(AD_combined_X.shape))\n",
    "\n",
    "\n",
    "#Preparing MCI-C data based only on AD features\n",
    "X_s = []\n",
    "num_in_train = 26\n",
    "num_bands = 5\n",
    "raw_features = [AD_NA_features, AD_NC_features, AD_NI_features, AD_OA_features, AD_OC_features, AD_OI_features]\n",
    "raw_electrodes = [AD_NA_elecs, AD_NC_elecs, AD_NI_elecs, AD_OA_elecs, AD_OC_elecs, AD_OI_elecs]\n",
    "raw_bands = [AD_NA_bands, AD_NC_bands, AD_NI_bands, AD_OA_bands, AD_OC_bands, AD_OI_bands]\n",
    "raw_graphs = [NA_graphs, NC_graphs, NI_graphs, OA_graphs, OC_graphs, OI_graphs]\n",
    "raw_people = [NA_new_people, NC_new_people, NI_new_people, OA_new_people, OC_new_people, OI_new_people]\n",
    "band_features = [AD_NA_band_features, AD_NC_band_features, AD_NI_band_features, AD_OA_band_features, AD_OC_band_features, AD_OI_band_features]\n",
    "band_electrodes = [AD_NA_band_elecs, AD_NC_band_elecs, AD_NI_band_elecs, AD_OA_band_elecs, AD_OC_band_elecs, AD_OI_band_elecs]\n",
    "band_bands = [AD_NA_band_bands, AD_NC_band_bands, AD_NI_band_bands, AD_OA_band_bands, AD_OC_band_bands, AD_OI_band_bands]\n",
    "band_graphs = [NA_band_graphs, NC_band_graphs, NI_band_graphs, OA_band_graphs, OC_band_graphs, OI_band_graphs]\n",
    "band_people = [NA_new_band_people, NC_new_band_people, NI_new_band_people, OA_new_band_people, OC_new_band_people, OI_new_band_people]\n",
    "for i in range(len(raw_features)):\n",
    "    X, y, x_test, y_test = make_ML_input(raw_features[i], raw_electrodes[i], raw_bands[i], raw_graphs[i], raw_people[i], num_in_train, num_bands, raw=True)\n",
    "    if X is not None: X_s.append(X)\n",
    "for i in range(len(band_features)):\n",
    "    X, y, x_test, y_test = make_ML_input(band_features[i], band_electrodes[i], band_bands[i], band_graphs[i], band_people[i], num_in_train, num_bands, raw=False)\n",
    "    if X is not None: X_s.append(X)\n",
    "combined_X = ()\n",
    "for i in range(len(X_s)):\n",
    "    combined_X = (*combined_X, X_s[i])\n",
    "combined_X = np.concatenate(combined_X, axis=1)"
   ]
  },
  {
   "cell_type": "code",
   "execution_count": null,
   "metadata": {
    "scrolled": false
   },
   "outputs": [],
   "source": [
    "AD_metrics, AD_y_test_vals = run_ML(100, np.concatenate((combined_X[0:11], AD_combined_X), axis=0), np.concatenate((y[0:11], AD_y), axis=0), n_splits=8, feature_reduction=11)"
   ]
  },
  {
   "cell_type": "code",
   "execution_count": null,
   "metadata": {},
   "outputs": [],
   "source": [
    "for model_name, values in AD_metrics.items():\n",
    "    preds = np.array([])\n",
    "    for pred in AD_metrics[model_name]['Class Prediction']:\n",
    "        preds = np.concatenate((preds, pred), axis=0)\n",
    "    print(\"Accuracy of %s model: %0.2f\" % (model_name, 100 * accuracy_score(AD_y_test_vals, preds)))"
   ]
  },
  {
   "cell_type": "code",
   "execution_count": null,
   "metadata": {},
   "outputs": [],
   "source": [
    "for model_name, values in AD_metrics.items():\n",
    "    preds = np.array([])\n",
    "    for pred in AD_metrics[model_name]['Class Prediction']:\n",
    "        preds = np.concatenate((preds, pred), axis=0)\n",
    "    print(\"Classification report of %s model: \\n%s\" % (model_name, classification_report(AD_y_test_vals, preds)))"
   ]
  },
  {
   "cell_type": "code",
   "execution_count": null,
   "metadata": {},
   "outputs": [],
   "source": [
    "_ = [AD_NA_features, AD_NC_features, AD_NI_features, AD_OA_features, AD_OC_features, AD_OI_features]\n",
    "__ = [AD_NA_band_features, AD_NC_band_features, AD_NI_band_features, AD_OA_band_features, AD_OC_band_features, AD_OI_band_features]\n",
    "num_features = sum([len(x) for x in _]) + sum([len(x) for x in __])\n",
    "print(\"Alzheimer's discovered features: \" + str(num_features))"
   ]
  },
  {
   "cell_type": "code",
   "execution_count": null,
   "metadata": {},
   "outputs": [],
   "source": [
    "for model_name, values in AD_metrics.items():\n",
    "    print(\"Accuracy of %s model: %0.2f $\\pm$ %0.2f\" % (model_name, np.mean(values['Accuracies']), np.std(values['Accuracies'])))\n",
    "    print(\"AUCs of %s model: %0.2f $\\pm$ %0.2f\" % (model_name, np.mean(values['AUCs']), np.std(values['AUCs'])))\n",
    "    print(\"Recalls of %s model: %0.2f $\\pm$ %0.2f\" % (model_name, np.mean(values['Recalls']), np.std(values['Recalls'])))\n",
    "    print(\"Precisions of %s model: %0.2f $\\pm$ %0.2f\" % (model_name, np.mean(values['Precisions']), np.std(values['Precisions'])))"
   ]
  },
  {
   "cell_type": "code",
   "execution_count": null,
   "metadata": {},
   "outputs": [],
   "source": [
    "pAD_metrics, pAD_y_test_vals = run_ML(100, combined_X, y, n_splits=8, feature_reduction=11)"
   ]
  },
  {
   "cell_type": "code",
   "execution_count": null,
   "metadata": {},
   "outputs": [],
   "source": [
    "for model_name, values in pAD_metrics.items():\n",
    "    print(\"Accuracy of %s model: %0.4f $\\pm$ %0.3f\" % (model_name, np.mean(values['Accuracies']), np.std(values['Accuracies'])))\n",
    "    print(\"AUCs of %s model: %0.4f $\\pm$ %0.3f\" % (model_name, np.mean(values['AUCs']), np.std(values['AUCs'])))\n",
    "    print(\"Recalls of %s model: %0.4f $\\pm$ %0.3f\" % (model_name, np.mean(values['Recalls']), np.std(values['Recalls'])))\n",
    "    print(\"Precisions of %s model: %0.4f $\\pm$ %0.3f\" % (model_name, np.mean(values['Precisions']), np.std(values['Precisions'])))"
   ]
  },
  {
   "cell_type": "markdown",
   "metadata": {},
   "source": [
    "## PCA Visualization"
   ]
  },
  {
   "cell_type": "code",
   "execution_count": null,
   "metadata": {},
   "outputs": [],
   "source": [
    "#The mean and standard deviation used to standardize the data in each graph are using only the datapoints of the patients in each graph, and furthermore the PCA components are also only using the datapoints of the patients in each graph. This is to get a good look at what the ML algorithms see as each classification task is only done with the two groups in the task (i should probably mention this in the caption).\n",
    "def plot_everything(X, y):\n",
    "    # Get decision boundaries for 2 class projection\n",
    "    def create_neural_network():\n",
    "        keras.backend.clear_session()\n",
    "        model = Sequential()\n",
    "        feature_reduction = 2\n",
    "        model.add(Dense(feature_reduction, input_dim=feature_reduction, kernel_initializer='normal', activation='relu'))\n",
    "        model.add(Dense(feature_reduction * 2, kernel_initializer='normal', activation='relu'))\n",
    "        model.add(Dense(1, kernel_initializer='normal', activation='sigmoid'))\n",
    "        model.compile(loss='binary_crossentropy', optimizer='adam', metrics=['accuracy'])\n",
    "        return model\n",
    "\n",
    "    from sklearn import svm\n",
    "    nn = create_neural_network()\n",
    "    svm = svm.SVC(probability=True, gamma='auto', kernel='linear')\n",
    "    logreg = LogisticRegression(solver='liblinear')\n",
    "    lda = LinearDiscriminantAnalysis()\n",
    "    nn.fit(X_pca, y, batch_size=5, epochs=100, verbose=0, validation_split=0)\n",
    "    svm.fit(X_pca, y)\n",
    "    logreg.fit(X_pca, y)\n",
    "    lda.fit(X_pca, y)\n",
    "    def plot_decision_boundary(pred_func, label, color):\n",
    "        # Set min and max values and give it some padding\n",
    "        x_min, x_max = X[:, 0].min() - .5, X[:, 0].max() + .5\n",
    "        y_min, y_max = X[:, 1].min() - .5, X[:, 1].max() + .5\n",
    "        h = 1500\n",
    "        # Generate a grid of points with h steps between them\n",
    "        xx, yy = np.meshgrid(np.linspace(x_min, x_max, h), np.linspace(y_min, y_max, h))\n",
    "        # Predict the function value for the whole gid\n",
    "        Z = pred_func(np.c_[xx.ravel(), yy.ravel()]).flatten()\n",
    "        Z = Z.reshape(xx.shape)\n",
    "        # Plot the contour and training examples\n",
    "        cset = plt.contour(xx, yy, Z, colors=color, levels=1, alpha=0.5)\n",
    "        fmt = {}\n",
    "        strs = [label]\n",
    "        for l, s in zip(cset.levels, strs):\n",
    "            fmt[l] = s\n",
    "        plt.clabel(cset, cset.levels[::3], inline=True, fmt=fmt, fontsize=15)\n",
    "    plot_decision_boundary(lambda x: svm.predict(x), \"SVM\", color='red')\n",
    "    plot_decision_boundary(lambda x: logreg.predict(x), \"Log Reg\", color='blue')\n",
    "    plot_decision_boundary(lambda x: lda.predict(x), \"LDA\", color='green')\n",
    "    plot_decision_boundary(lambda x: nn.predict_classes(x), \"ANN\", color='black')"
   ]
  },
  {
   "cell_type": "code",
   "execution_count": null,
   "metadata": {},
   "outputs": [],
   "source": [
    "\n",
    "scaler = StandardScaler()\n",
    "X_pca = combined_X\n",
    "X_pca = scaler.fit_transform(X_pca)\n",
    "pca = PCA(n_components=2)\n",
    "X_pca = pca.fit_transform(X_pca)\n",
    "y = np.concatenate((np.zeros(11), np.ones(15)))\n",
    "plt.scatter(X_pca[:11, 0], X_pca[:11, 1], alpha=1, label='RNE', marker=MarkerStyle(\"_\"), color='black')\n",
    "plt.scatter(X_pca[11:26, 0], X_pca[11:26, 1], alpha=1, label='pAD', marker=MarkerStyle(\"P\"), color='red')\n",
    "plot_everything(X_pca, y)\n",
    "plt.xlabel('Component 1')\n",
    "plt.ylabel('Component 2')\n",
    "plt.title('pAD vs Control PCA Projection')\n",
    "plt.legend()\n",
    "plt.savefig(\"PCA_2.pdf\", format='pdf')\n",
    "plt.show()\n"
   ]
  },
  {
   "cell_type": "code",
   "execution_count": null,
   "metadata": {},
   "outputs": [],
   "source": [
    "\n",
    "scaler = StandardScaler()\n",
    "X_pca = np.concatenate((combined_X[:11], AD_combined_X))\n",
    "X_pca = scaler.fit_transform(X_pca)\n",
    "pca = PCA(n_components=2)\n",
    "X_pca = pca.fit_transform(X_pca)\n",
    "y = np.concatenate((np.zeros(11), np.ones(11)))\n",
    "colors = np.concatenate((np.zeros(11), np.ones(15), np.ones(10) * 2, np.ones(11) * 3))\n",
    "plt.scatter(X_pca[:11, 0], X_pca[:11, 1], alpha=1, label='RNE', marker=MarkerStyle(\"_\"), color='black')\n",
    "plt.scatter(X_pca[11:22, 0], X_pca[11:22, 1], alpha=1, label='AD', marker=MarkerStyle(\"p\"), color='orange')\n",
    "plot_everything(X_pca, y)\n",
    "plt.xlabel('Component 1')\n",
    "plt.ylabel('Component 2')\n",
    "plt.title('AD vs Control PCA Projection')\n",
    "plt.legend()\n",
    "plt.savefig(\"PCA_3.pdf\", format=\"pdf\")\n",
    "plt.show()\n"
   ]
  },
  {
   "cell_type": "code",
   "execution_count": null,
   "metadata": {},
   "outputs": [],
   "source": [
    "from mpl_toolkits.mplot3d import Axes3D\n",
    "import matplotlib.pyplot as plt\n",
    "\n",
    "\n",
    "\n",
    "\n",
    "fig = plt.figure()\n",
    "ax = fig.add_subplot(111, projection='3d')\n",
    "ax.set_xlabel('Principal Component 1') \n",
    "ax.set_ylabel('Principal Component 2')\n",
    "ax.set_zlabel('Principal Component 3')\n",
    "ax.set_title('3 component PCA')\n",
    "scaler = StandardScaler()\n",
    "X_pca = np.concatenate((combined_X, AD_combined_X, MCIS_combined_X))\n",
    "X_pca = scaler.fit_transform(X_pca)\n",
    "pca = PCA(n_components=3)\n",
    "X_pca = pca.fit_transform(X_pca)\n",
    "#AD_X_pca = pca.transform(scaler.transform(AD_combined_X))\n",
    "#X_pca = np.concatenate((X_pca, AD_X_pca))\n",
    "ax.scatter(X_pca[:11, 0], X_pca[:11, 1], X_pca[:11, 2], s=20, alpha=1, label='Control', marker=MarkerStyle(\"_\"), cmap=plt.cm.get_cmap('Set1', 1))\n",
    "ax.scatter(X_pca[11:26, 0], X_pca[11:26, 1], X_pca[11:26, 2], s=20, alpha=1, label='pAD', marker=MarkerStyle(\"P\"), cmap=plt.cm.get_cmap('Set1', 1))\n",
    "ax.scatter(X_pca[26:36, 0], X_pca[26:36, 1], X_pca[26:36, 2], s=20, alpha=1, label='AD', marker=MarkerStyle(\"o\"), cmap=plt.cm.get_cmap('Set1', 1))\n",
    "#ax.scatter(X_pca[36:, 0], X_pca[36:, 1], X_pca[36:, 2], s=20, alpha=1, label='MCI-S', marker=MarkerStyle(\"p\"), cmap=plt.cm.get_cmap('Set1', 1))\n",
    "#fig.colorbar(p)\n",
    "fig = plt.gcf()\n",
    "fig.legend()\n",
    "fig.set_size_inches(10, 6)\n",
    "ax.view_init(30, 30)\n",
    "plt.show()"
   ]
  },
  {
   "cell_type": "code",
   "execution_count": null,
   "metadata": {},
   "outputs": [],
   "source": [
    "from mpl_toolkits.mplot3d import Axes3D\n",
    "import matplotlib.pyplot as plt\n",
    "\n",
    "\n",
    "\n",
    "\n",
    "fig = plt.figure()\n",
    "ax = fig.add_subplot(111, projection='3d')\n",
    "ax.set_xlabel('Principal Component 1') \n",
    "ax.set_ylabel('Principal Component 2')\n",
    "ax.set_zlabel('Principal Component 3')\n",
    "ax.set_title('3 component PCA')\n",
    "scaler = StandardScaler()\n",
    "X_pca = combined_X\n",
    "X_pca = scaler.fit_transform(X_pca)\n",
    "pca = PCA(n_components=3)\n",
    "X_pca = pca.fit_transform(X_pca)\n",
    "#AD_X_pca = pca.transform(scaler.transform(AD_combined_X))\n",
    "#X_pca = np.concatenate((X_pca, AD_X_pca))\n",
    "ax.scatter(X_pca[:11, 0], X_pca[:11, 1], X_pca[:11, 2], s=20, alpha=1, label='Control', marker=MarkerStyle(\"_\"), cmap=plt.cm.get_cmap('Set1', 1))\n",
    "ax.scatter(X_pca[11:26, 0], X_pca[11:26, 1], X_pca[11:26, 2], s=20, alpha=1, label='pAD', marker=MarkerStyle(\"P\"), cmap=plt.cm.get_cmap('Set1', 1))\n",
    "#ax.scatter(X_pca[26:36, 0], X_pca[26:36, 1], X_pca[26:36, 2], s=20, alpha=1, label='AD', marker=MarkerStyle(\"o\"), cmap=plt.cm.get_cmap('Set1', 1))\n",
    "#ax.scatter(X_pca[36:, 0], X_pca[36:, 1], X_pca[36:, 2], s=20, alpha=1, label='MCI-S', marker=MarkerStyle(\"p\"), cmap=plt.cm.get_cmap('Set1', 1))\n",
    "#fig.colorbar(p)\n",
    "fig = plt.gcf()\n",
    "fig.legend()\n",
    "fig.set_size_inches(10, 6)\n",
    "ax.view_init(30, 30)\n",
    "plt.show()"
   ]
  },
  {
   "cell_type": "markdown",
   "metadata": {},
   "source": [
    "## Comparison of different bands across people"
   ]
  },
  {
   "cell_type": "code",
   "execution_count": null,
   "metadata": {},
   "outputs": [],
   "source": [
    "#%config InlineBackend.figure_format = 'svg' #Uses svg format images for much better quality\n",
    "def plot_electrode(electrode, controls, converts, name, graphs, condition):\n",
    "    print(\"PLOTTING ELECTRODE: \" + name + \", condition: \" + condition)\n",
    "    timesteps = controls.shape[1] - 1\n",
    "    people = controls.shape[0]\n",
    "    people_converts = converts.shape[0]\n",
    "    alphas_controls, alphas_converts = controls[:, :timesteps, electrode * 5].reshape(people, timesteps), converts[:, :timesteps, electrode * 5].reshape(people_converts, timesteps)\n",
    "    betas_controls, betas_converts = controls[:, :timesteps, electrode * 5 + 1].reshape(people, timesteps), converts[:, :timesteps, electrode * 5 + 1].reshape(people_converts, timesteps)\n",
    "    deltas_controls, deltas_converts = controls[:, :timesteps, electrode * 5 + 2].reshape(people, timesteps), converts[:, :timesteps, electrode * 5 + 2].reshape(people_converts, timesteps)\n",
    "    gammas_controls, gammas_converts = controls[:, :timesteps, electrode * 5 + 3].reshape(people, timesteps), converts[:, :timesteps, electrode * 5 + 3].reshape(people_converts, timesteps)\n",
    "    thetas_controls, thetas_converts = controls[:, :timesteps, electrode * 5 + 4].reshape(people, timesteps), converts[:, :timesteps, electrode * 5 + 4].reshape(people_converts, timesteps)\n",
    "    alphas_controls, alphas_converts = np.average(alphas_controls, axis=0), np.average(alphas_converts, axis = 0)\n",
    "    betas_controls, betas_converts = np.average(betas_controls, axis=0), np.average(betas_converts, axis = 0)\n",
    "    deltas_controls, deltas_converts = np.average(deltas_controls, axis=0), np.average(deltas_converts, axis = 0)\n",
    "    gammas_controls, gammas_converts = np.average(gammas_controls, axis=0), np.average(gammas_converts, axis = 0)\n",
    "    thetas_controls, thetas_converts = np.average(thetas_controls, axis=0), np.average(thetas_converts, axis = 0)\n",
    "    all_things = [alphas_controls, alphas_converts, betas_controls, betas_converts, deltas_controls, deltas_converts, gammas_controls, gammas_converts, thetas_controls, thetas_converts]\n",
    "    def make_degree_sequences(graphs, shift):\n",
    "        graph_controls = [i[electrode * 5 + shift] for i in graphs[0:people]]\n",
    "        graph_converts = [i[electrode * 5 + shift] for i in graphs[11: 11 + people_converts]]\n",
    "        degree_sequence_controls = np.average(np.array([[d for n, d in G.degree()] for G in graph_controls]), axis=0)\n",
    "        degree_sequence_converts = np.average(np.array([[d for n, d in G.degree()] for G in graph_converts]), axis=0)\n",
    "        return degree_sequence_controls, degree_sequence_converts\n",
    "    alpha_degree_controls, alpha_degree_converts = make_degree_sequences(graphs, 0)\n",
    "    beta_degree_controls, beta_degree_converts = make_degree_sequences(graphs, 1)\n",
    "    delta_degree_controls, delta_degree_converts = make_degree_sequences(graphs, 2)\n",
    "    gamma_degree_controls, gamma_degree_converts = make_degree_sequences(graphs, 3)\n",
    "    theta_degree_controls, theta_degree_converts = make_degree_sequences(graphs, 4)\n",
    "    degree_sequences = [alpha_degree_controls, alpha_degree_converts, beta_degree_controls, beta_degree_converts,\n",
    "                        delta_degree_controls, delta_degree_converts, gamma_degree_controls, gamma_degree_converts,\n",
    "                        theta_degree_controls, theta_degree_converts]\n",
    "    \n",
    "    time_array = [i for i in range(-1000 + 80, 2000, NA_divide_factor * 4)]\n",
    "    fig, axarr = plt.subplots(5, 2, figsize=(20, 6))\n",
    "    def miniplot(time_array, controls, converts, degree_controls, degree_converts, i):\n",
    "        index = int(i/2 % 5)\n",
    "        i = int(i / 2)\n",
    "        bands = {0: 'alpha', 1: 'beta', 2: 'delta', 3: 'gamma', 4: 'theta'}\n",
    "        axarr[i][0].plot(time_array, controls, color='red', label='controls')\n",
    "        axarr[i][0].set_title(bands[index] +\" Voltage in Electrode \" + name + '; Condition: ' + condition)\n",
    "        axarr[i][0].set_xlabel(\"Time past word stimulus (ms)\")\n",
    "        axarr[i][0].set_ylabel(\"Voltage (μV)\")\n",
    "        axarr[i][0].plot(time_array, converts, color='blue', label='converts')\n",
    "        axarr[i][0].legend(loc='upper left')\n",
    "        axarr[i][0].set_ylim(axarr[i][0].get_ylim()[::-1])\n",
    "        axarr[i][1].plot(time_array, degree_controls, color='red', label='controls')\n",
    "        axarr[i][1].set_title(bands[index] +\" Node Degree Sequence in Electrode \" + name + '; Condition: ' + condition)\n",
    "        axarr[i][1].plot(time_array, degree_converts, color='blue', label='converts')\n",
    "        axarr[i][1].set_xlabel(\"Time past word stimulus (ms)\")\n",
    "        axarr[i][1].set_ylabel(\"Degree of Node\")\n",
    "        axarr[i][1].legend(loc='upper left')\n",
    "        axarr[i][1].set_ylim(axarr[i][1].get_ylim()[::-1])\n",
    "    def plot_all(arrays, time_array, degree_array):\n",
    "        for i in range(0, len(arrays), 2):\n",
    "            miniplot(time_array, arrays[i], arrays[i+1], degree_array[i], degree_array[i+1], i)\n",
    "    plot_all(all_things, time_array, degree_sequences)\n",
    "    fig.subplots_adjust(top=3)\n",
    "    plt.show()\n",
    "\n",
    "def plot_electrode_raw(electrode, controls, pAD, AD, name, graphs, AD_graphs, condition):\n",
    "    timesteps = controls.shape[1] - 1\n",
    "    people = controls.shape[0]\n",
    "    people_converts = pAD.shape[0]\n",
    "    controls, converts = controls[:, :timesteps, electrode].reshape(people, timesteps), pAD[:, :timesteps, electrode].reshape(people_converts, timesteps)\n",
    "    controls, converts = np.average(controls, axis=0), np.average(converts, axis = 0)\n",
    "    AD = AD[:, :timesteps, electrode].reshape(-1, timesteps)\n",
    "    AD = np.average(AD, axis=0)\n",
    "    graph_controls = [i[electrode] for i in graphs[0:people]]\n",
    "    graph_converts = [i[electrode] for i in graphs[11: 11 + people_converts]]\n",
    "    AD_graphs = [i[electrode] for i in AD_graphs]\n",
    "    degree_sequence_controls = np.average(np.array([[d for n, d in G.degree()] for G in graph_controls]), axis=0)\n",
    "    degree_sequence_pAD = np.average(np.array([[d for n, d in G.degree()] for G in graph_converts]), axis=0)\n",
    "    degree_sequence_AD = np.average(np.array([[d for n, d in G.degree()] for G in AD_graphs]), axis=0)\n",
    "    time_array = [i for i in range(-1000 + 80, 2000, NA_divide_factor * 4)]\n",
    "    f, ax = plt.subplots(1, 2, figsize=(18, 6))\n",
    "    def miniplot(time_array, controls, converts, AD):\n",
    "        ax[0].set_title(\"Raw\" +\" Voltage in Electrode \" + name + '; Condition: ' + condition)\n",
    "        ax[0].plot(time_array, controls, color='tab:cyan', label='RNE', linestyle=\":\")\n",
    "        ax[0].plot(time_array, AD, color='green', label='AD', linestyle=\"-\")\n",
    "        ax[0].plot(time_array, converts, color=\"tab:orange\", label=\"pAD\", linestyle=\"--\")\n",
    "        ax[0].set_xlabel(\"Time past word stimulus (ms)\")\n",
    "        ax[0].set_ylabel(\"Voltage (μV)\")\n",
    "        ax[0].legend(loc='best')\n",
    "        ax[0].set_ylim(ax[0].get_ylim()[::-1])\n",
    "        ax[0].tick_params(axis='x', rotation=45)\n",
    "        ax[0].xaxis.set_ticks(np.arange(-1000, 2100, 100))\n",
    "        ax[1].set_title(\"Raw\" +\" Node Degrees in Electrode \" + name + '; Condition: ' + condition)\n",
    "        ax[1].plot(time_array, degree_sequence_controls, color='tab:cyan', label='RNE', linestyle=\":\")\n",
    "        ax[1].plot(time_array, degree_sequence_AD, color='green', label='AD', linestyle=\"-\")\n",
    "        ax[1].plot(time_array, degree_sequence_pAD, color='tab:orange', label='pAD', linestyle=\"--\")\n",
    "        #ax[1].legend(loc='upper left')\n",
    "        ax[1].set_xlabel(\"Time past word stimulus (ms)\")\n",
    "        ax[1].set_ylabel(\"Degree of Node\")\n",
    "        ax[1].tick_params(axis='x', rotation=45)\n",
    "        ax[1].set_ylim(ax[1].get_ylim()[::-1])\n",
    "        ax[1].xaxis.set_ticks(np.arange(-1000, 2100, 100))\n",
    "        plt.savefig('raw.pdf', bbox_inches='tight')\n",
    "        plt.show()\n",
    "    miniplot(time_array, controls, converts, AD)\n",
    "electrodes = {0: 10, 1: 11, 2: 12, 3: 13, 4: 14, 5: 15, 6:18, 7:19, 8:3, 9:4, 10:5, 11:6, 12:7, 13:8, 14:9}\n",
    "inverse_electrodes = {v: k for k, v in electrodes.items()}\n",
    "electrode_to_name = {3:'cz',4:'f7',5:'f8',6:'bl',7:'br',8:'l41',9:'r41',10:'t5',11:'t6',12:'wl',13:'wr',14:'o1',15:'o2',18:'fz',19:'pz'}\n",
    "inverse_electrodes_names = {v: k for k, v in electrode_to_name.items()}\n",
    "@jit\n",
    "def plot_graphs(raw_peeps, AD_peeps, condition, electrode, raw_graphs, raw_AD_graphs):\n",
    "    elec_num = inverse_electrodes[inverse_electrodes_names[electrode]]\n",
    "    controls, converts = raw_peeps[0:11], raw_peeps[11:26]\n",
    "    plot_electrode_raw(elec_num, controls, converts, AD_peeps, electrode, raw_graphs, raw_AD_graphs, condition)"
   ]
  },
  {
   "cell_type": "code",
   "execution_count": null,
   "metadata": {},
   "outputs": [],
   "source": [
    "plot_graphs(OC_new_people, AD_OC_new_people, 'Old Congruous', 'wr', OC_graphs, AD_OC_graphs)\n",
    "#plt.savefig('raw.pdf', bbox_inches='tight')"
   ]
  },
  {
   "cell_type": "code",
   "execution_count": null,
   "metadata": {},
   "outputs": [],
   "source": []
  }
 ],
 "metadata": {
  "kernelspec": {
   "display_name": "Python 3 (ipykernel)",
   "language": "python",
   "name": "python3"
  },
  "language_info": {
   "codemirror_mode": {
    "name": "ipython",
    "version": 3
   },
   "file_extension": ".py",
   "mimetype": "text/x-python",
   "name": "python",
   "nbconvert_exporter": "python",
   "pygments_lexer": "ipython3",
   "version": "3.6.13"
  }
 },
 "nbformat": 4,
 "nbformat_minor": 2
}
